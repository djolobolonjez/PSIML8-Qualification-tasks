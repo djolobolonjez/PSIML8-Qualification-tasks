{
  "nbformat": 4,
  "nbformat_minor": 0,
  "metadata": {
    "colab": {
      "name": "PSIML8 - Roomba.ipynb",
      "provenance": [],
      "collapsed_sections": [],
      "authorship_tag": "ABX9TyNIXmsMd9/0eQpVW0MjGCsD",
      "include_colab_link": true
    },
    "kernelspec": {
      "name": "python3",
      "display_name": "Python 3"
    },
    "language_info": {
      "name": "python"
    }
  },
  "cells": [
    {
      "cell_type": "markdown",
      "metadata": {
        "id": "view-in-github",
        "colab_type": "text"
      },
      "source": [
        "<a href=\"https://colab.research.google.com/github/djolobolonjez/PSIML8-Qualification-tasks/blob/master/Task%202/PSIML8_Roomba.ipynb\" target=\"_parent\"><img src=\"https://colab.research.google.com/assets/colab-badge.svg\" alt=\"Open In Colab\"/></a>"
      ]
    },
    {
      "cell_type": "code",
      "execution_count": null,
      "metadata": {
        "colab": {
          "base_uri": "https://localhost:8080/",
          "height": 53
        },
        "id": "B5Ro0azFBoyp",
        "outputId": "67228771-6d38-4f6c-a456-257ab3793a85"
      },
      "outputs": [
        {
          "output_type": "execute_result",
          "data": {
            "text/plain": [
              "'from zipfile import ZipFile\\nfile_name = \"/roomba-public.zip\"\\n\\nwith ZipFile(file_name, \\'r\\') as zip:\\n  zip.extractall()\\n  print(\\'Done\\')'"
            ],
            "application/vnd.google.colaboratory.intrinsic+json": {
              "type": "string"
            }
          },
          "metadata": {},
          "execution_count": 213
        }
      ],
      "source": [
        "from zipfile import ZipFile\n",
        "file_name = \"/roomba-public.zip\"\n",
        "\n",
        "with ZipFile(file_name, 'r') as zip:\n",
        "  zip.extractall()\n",
        "  print('Done')"
      ]
    },
    {
      "cell_type": "markdown",
      "source": [
        "Importing libraries"
      ],
      "metadata": {
        "id": "0pq6oC9tEvZ-"
      }
    },
    {
      "cell_type": "code",
      "source": [
        "import numpy as np\n",
        "from PIL import Image, ImageFilter, ImageOps, ImageDraw, ImageColor\n",
        "from itertools import product\n",
        "import math\n",
        "import matplotlib.pyplot as plt\n",
        "import os"
      ],
      "metadata": {
        "id": "xvEh7XNcEusK"
      },
      "execution_count": null,
      "outputs": []
    },
    {
      "cell_type": "markdown",
      "source": [
        "Gaussian Kernel"
      ],
      "metadata": {
        "id": "zUL8uZMgNvwv"
      }
    },
    {
      "cell_type": "code",
      "source": [
        "def gaussian_kernel(size = 5, sigma = 1):\n",
        "  size = int(size)//2\n",
        "  x, y = np.mgrid[-size:size+1, -size:size+1]\n",
        "  normal = 1/(2.0*np.pi*sigma**2)\n",
        "  g = np.exp(-((x**2+y**2)/(2.0*sigma**2)))*normal\n",
        "  return g"
      ],
      "metadata": {
        "id": "haP3N1V8NviU"
      },
      "execution_count": null,
      "outputs": []
    },
    {
      "cell_type": "markdown",
      "source": [
        "Sobel filter"
      ],
      "metadata": {
        "id": "VXiVmDUNPGlB"
      }
    },
    {
      "cell_type": "code",
      "source": [
        "def sobel_filter(img):\n",
        "\n",
        "  k_x = np.array([[-1, 0, 1], [-2, 0, 2], [-1, 0, 1]], np.float32)\n",
        "  k_y = np.array([[1, 2, 1], [0, 0, 0], [-1, -2, -1]], np.float32)\n",
        "\n",
        "  img_x = convolve2D(img, k_x)\n",
        "  img_y = convolve2D(img, k_y)\n",
        "\n",
        "  g = np.hypot(img_x, img_y)\n",
        "  g = g/g.max()*255\n",
        "\n",
        "  theta = np.arctan2(img_x, img_y)\n",
        "\n",
        "  return (g, theta)"
      ],
      "metadata": {
        "id": "b2FcHz1DPGW2"
      },
      "execution_count": null,
      "outputs": []
    },
    {
      "cell_type": "markdown",
      "source": [
        "Double threshold for pixel classification"
      ],
      "metadata": {
        "id": "evMitBpAhDV_"
      }
    },
    {
      "cell_type": "code",
      "source": [
        "def threshold(img, low_threshold_ratio = 0.05, high_threshold_ratio = 0.09):\n",
        "\n",
        "  high_threshold = img.max()*high_threshold_ratio\n",
        "  low_threshold = high_threshold*low_threshold_ratio\n",
        "\n",
        "  m, n = img.shape\n",
        "\n",
        "  result = np.zeros((m, n))\n",
        "\n",
        "  weak = 25\n",
        "  strong = 255\n",
        "\n",
        "  strong_i, strong_j = np.where(img >= high_threshold)\n",
        "  zero_i, zero_j = np.where(img <= low_threshold)\n",
        "\n",
        "  weak_i, weak_j = np.where((img <= high_threshold) & (img >= low_threshold))\n",
        "\n",
        "  for i in range(len(strong_i)):\n",
        "    result[strong_i[i]][strong_j[i]] = strong\n",
        "  \n",
        "  for i in range(len(weak_i)):\n",
        "    result[weak_i[i]][weak_j[i]] = weak\n",
        "\n",
        "  return (result, weak, strong)"
      ],
      "metadata": {
        "id": "1V6IrMZ2hDMu"
      },
      "execution_count": null,
      "outputs": []
    },
    {
      "cell_type": "markdown",
      "source": [
        "Hysteresis for adjacent pixels"
      ],
      "metadata": {
        "id": "TTEVMKMrj6tn"
      }
    },
    {
      "cell_type": "code",
      "source": [
        "def hysteresis(img, weak_pixel = 75, strong_pixel = 255):\n",
        "\n",
        "  m, n = img.shape\n",
        "  weak = weak_pixel\n",
        "  strong = strong_pixel\n",
        "\n",
        "  for i in range(1, m-1):\n",
        "    for j in range(1, n-1):\n",
        "      if img[i][j] == weak:\n",
        "        try:\n",
        "          if((img[i+1][j-1] == strong) or (img[i+1][j] == strong) or (img[i+1][j+1] == strong)\n",
        "            or (img[i][j-1] == strong) or (img[i][j+1] == strong)\n",
        "            or (img[i-1][j-1] == strong) or (img[i-1][j] == strong) or img[i-1][j+1] == strong):\n",
        "            img[i][j] = strong\n",
        "          else:\n",
        "            img[i][j] = 0\n",
        "          \n",
        "        except IndexError as e:\n",
        "          pass\n",
        "\n",
        "  return img\n"
      ],
      "metadata": {
        "id": "Pi69Zvfgj6lR"
      },
      "execution_count": null,
      "outputs": []
    },
    {
      "cell_type": "markdown",
      "source": [
        "2D convolution for image filtering"
      ],
      "metadata": {
        "id": "BqyAqsmg86ak"
      }
    },
    {
      "cell_type": "code",
      "source": [
        "def convolve2D(image, kernel, padding = 0, strides = 1):\n",
        "\n",
        "  kernel = np.flipud(np.fliplr(kernel))\n",
        "  x_kern = kernel.shape[0]\n",
        "  y_kern = kernel.shape[1]\n",
        "  x_img = image.shape[0]\n",
        "  y_img = image.shape[1]\n",
        "\n",
        "  x_out = int(((x_img - x_kern + 2*padding)/strides) + 1)\n",
        "  y_out = int(((y_img - y_kern + 2*padding)/strides) + 1)\n",
        "\n",
        "  output = np.zeros((x_out, y_out))\n",
        "\n",
        "  if padding != 0:\n",
        "    padded_image = np.zeros((image.shape[0] + 2*padding, image.shape[1] + 2*padding))\n",
        "    padded_image[int(padding):int(-1*padding), int(padding):int(-1*padding)] = image\n",
        "  \n",
        "  else:\n",
        "    padded_image = image\n",
        "\n",
        "  for y in range(image.shape[1]):\n",
        "    if y > image.shape[1] - y_kern:\n",
        "      break\n",
        "    \n",
        "    if y % strides == 0:\n",
        "      for x in range(image.shape[0]):\n",
        "        if x > image.shape[0] - x_kern:\n",
        "          break\n",
        "        try:\n",
        "          if x % strides == 0:\n",
        "            output[x][y] = (kernel*padded_image[x:x + x_kern, y:y + y_kern]).sum()\n",
        "        except:\n",
        "          break\n",
        "\n",
        "  return output"
      ],
      "metadata": {
        "id": "UE6nrQau85_0"
      },
      "execution_count": null,
      "outputs": []
    },
    {
      "cell_type": "markdown",
      "source": [
        "Filling room matrix"
      ],
      "metadata": {
        "id": "O-Q5TEga1QvI"
      }
    },
    {
      "cell_type": "code",
      "source": [
        "def room_map(grid, image, d, img_h, img_w):\n",
        "  room_h = 0\n",
        "  room_w = 0\n",
        "  total = 0\n",
        "  img_w, img_h = image.size\n",
        "\n",
        "  legend = {'empty': 0, 'wall': 1, 'roomba': 2, 'station': 3, 'furniture': 4, 'dirt': 5}\n",
        "\n",
        "  grid = product(range(0, img_h - img_h%d, d), range(0, img_w-img_w%d, d))\n",
        "  for i, j in grid:\n",
        "    total += 1\n",
        "    if j == 0:\n",
        "      room_h += 1\n",
        "  \n",
        "  room_w = total//room_h\n",
        "\n",
        "  surface = img_h*img_w\n",
        "\n",
        "  offset = int(math.sqrt(surface/(room_w*room_h)))\n",
        "\n",
        "  room_matrix = np.zeros((room_h, room_w), dtype = int)\n",
        "  h = w = 0\n",
        "  grid = product(range(0, img_h-img_h%offset, offset), range(0, img_w-img_w%offset, offset))\n",
        "\n",
        "  for i, j in grid:\n",
        "    box = (j, i, j+offset, i+offset)\n",
        "    curr_image = image.crop(box)\n",
        "\n",
        "    curr_image = np.asarray(curr_image)\n",
        "    curr_h, curr_w = curr_image.shape[:2]\n",
        "\n",
        "    middle = curr_image[curr_h//2][curr_w//2]\n",
        "\n",
        "    if np.sum(middle) == 0:\n",
        "      obj = \"wall\"\n",
        "      \n",
        "    elif middle[0] == 255 and middle[1] == 255 and middle[2] == 255:\n",
        "      obj = \"empty\"\n",
        "\n",
        "    elif np.argmax(middle) == 1:\n",
        "      obj = \"station\"\n",
        "    \n",
        "    else:\n",
        "      if middle[1] == middle[2]:\n",
        "        obj = \"roomba\"\n",
        "      elif middle[0] == 255 and middle[1] > 200:\n",
        "        obj = \"dirt\"\n",
        "      else:\n",
        "        obj = \"furniture\"\n",
        "\n",
        "    room_matrix[h][w] = legend[obj]\n",
        "    w += 1\n",
        "\n",
        "    if w == room_w:\n",
        "      w = 0\n",
        "      h += 1\n",
        "  \n",
        "  return room_matrix, room_h, room_w\n"
      ],
      "metadata": {
        "id": "P9o1hfAF1Qlw"
      },
      "execution_count": null,
      "outputs": []
    },
    {
      "cell_type": "markdown",
      "source": [
        "Preprocessing"
      ],
      "metadata": {
        "id": "8Gseu975tXg_"
      }
    },
    {
      "cell_type": "code",
      "source": [
        "def preprocessing(imagepath, classification = True):\n",
        "  image = Image.open(imagepath)\n",
        "  r, g, b, a = image.split()\n",
        "  rgb_image = Image.merge('RGB', (r, g, b))\n",
        "\n",
        "  invert_image = ImageOps.invert(rgb_image)\n",
        "  bbox = invert_image.getbbox()\n",
        "  image = image.crop(bbox)\n",
        "  image = image.convert('RGB')\n",
        "  edge_image = image.convert(\"L\")\n",
        "\n",
        "  edge_img = np.asarray(edge_image)\n",
        "  edge_img = convolve2D(edge_img, gaussian_kernel(3))\n",
        "  gradient, theta = sobel_filter(edge_img)\n",
        "  threshold_img, weak, strong = threshold(gradient)\n",
        "  final_img = hysteresis(threshold_img, weak, strong)\n",
        "\n",
        "  to_save = Image.fromarray(final_img.astype(np.uint8))\n",
        "  to_save.save(r\"final.png\")\n",
        "\n",
        "  point = [0, 0]\n",
        "  found = False\n",
        "  for i in range(final_img.shape[0]):\n",
        "    for j in range(final_img.shape[1]):\n",
        "      if (final_img[i][j] == 255):\n",
        "        point = [i, j]\n",
        "        found = True\n",
        "        break\n",
        "      \n",
        "    if found: break\n",
        "\n",
        "  d = point[-1]\n",
        "\n",
        "  h, w = final_img.shape\n",
        "  grid = product(range(0, h-h%d, d), range(0, w-w%d, d))\n",
        "  \n",
        "  if not classification:\n",
        "    return room_map(grid, image, d, h, w)\n"
      ],
      "metadata": {
        "id": "vADmDlqttXWd"
      },
      "execution_count": null,
      "outputs": []
    },
    {
      "cell_type": "code",
      "source": [
        "class Cell:\n",
        "  def __init__(self, row, col, path):\n",
        "    self.row = row\n",
        "    self.col = col\n",
        "    self.path += path"
      ],
      "metadata": {
        "id": "Zd_EbGv5O7x7"
      },
      "execution_count": null,
      "outputs": []
    },
    {
      "cell_type": "code",
      "source": [
        "def valid(x, y, room_matrix, visited):\n",
        "  if (x >= 0 and y >= 0) and (x < len(room_matrix) and y < len(room_matrix[0])) and (room_matrix[x][y] != 4) and (room_matrix[x][y] != 1) and (visited[x][y] == False):\n",
        "    return True\n",
        "  \n",
        "  return False"
      ],
      "metadata": {
        "id": "XghyA5HTRryJ"
      },
      "execution_count": null,
      "outputs": []
    },
    {
      "cell_type": "markdown",
      "source": [
        "BFS for finding a path to the charging station"
      ],
      "metadata": {
        "id": "rxF9-U5FOj0k"
      }
    },
    {
      "cell_type": "code",
      "source": [
        "def pathfinding(room_matrix):\n",
        "  moves = {}\n",
        "  source_row = source_col = 0\n",
        "\n",
        "  for row in range(len(room_matrix)):\n",
        "    for col in range(len(room_matrix[row])):\n",
        "      if room_matrix[row][col] == 2:\n",
        "        source_row = row\n",
        "        source_col = col\n",
        "        break\n",
        "  \n",
        "  source = (source_row, source_col)\n",
        "  moves[source] = ''\n",
        "  visited = [[False for _ in range(len(room_matrix[0]))] for _ in range(len(room_matrix))]\n",
        "\n",
        "  queue = []\n",
        "  queue.append(source)\n",
        "  visited[source_row][source_col] = True\n",
        "  while len(queue):\n",
        "    row, col = queue.pop(0)\n",
        "    \n",
        "    if room_matrix[row][col] == 3:\n",
        "      return moves[(row, col)]\n",
        "\n",
        "    if valid(row - 1, col, room_matrix, visited):\n",
        "      cell = (row - 1, col)\n",
        "      moves[cell] = moves[(row, col)] + 'u'\n",
        "      queue.append(cell)\n",
        "      visited[row - 1][col] = True\n",
        "\n",
        "    if valid(row + 1, col, room_matrix, visited):\n",
        "      cell = (row + 1, col)\n",
        "      moves[cell] = moves[(row, col)] + 'd'\n",
        "      queue.append(cell)\n",
        "      visited[row + 1][col] = True\n",
        "\n",
        "    if valid(row, col - 1, room_matrix, visited):\n",
        "      cell = (row, col - 1)\n",
        "      moves[cell] = moves[(row, col)] + 'l'\n",
        "      queue.append(cell)\n",
        "      visited[row][col - 1] = True\n",
        "\n",
        "    if valid(row, col + 1, room_matrix, visited):\n",
        "      cell = (row, col + 1)\n",
        "      moves[cell] = moves[(row, col)] + 'r'\n",
        "      queue.append(cell)\n",
        "      visited[row][col + 1] = True    \n"
      ],
      "metadata": {
        "id": "jNredNzwOjj3"
      },
      "execution_count": null,
      "outputs": []
    },
    {
      "cell_type": "markdown",
      "source": [
        "Main"
      ],
      "metadata": {
        "id": "A1l2OqNi7QEX"
      }
    },
    {
      "cell_type": "code",
      "source": [
        "imagepath, C, Cmax = input().split(' ')\n",
        "C = int(C)\n",
        "Cmax = int(Cmax)\n",
        "\n",
        "shapes = {}\n",
        "\n",
        "room_matrix, H, W = preprocessing(imagepath, False)\n",
        "\n",
        "print([C, Cmax])\n",
        "print('Task 1')\n",
        "print([H, W])\n",
        "print(*room_matrix, sep = \"\\n\")\n",
        "\n",
        "path = pathfinding(room_matrix)\n",
        "task2 = []\n",
        "for char in path:\n",
        "  task2.append(char)\n",
        "\n",
        "print('Task 2')\n",
        "print(task2)\n"
      ],
      "metadata": {
        "colab": {
          "base_uri": "https://localhost:8080/"
        },
        "id": "hlIDD9iFE2xZ",
        "outputId": "76cb28f1-0f3a-490e-9362-7219896997e7"
      },
      "execution_count": null,
      "outputs": [
        {
          "output_type": "stream",
          "name": "stdout",
          "text": [
            "/content/public/set/room_3.png 2 2\n",
            "[2, 2]\n",
            "Task 1\n",
            "[6, 6]\n",
            "[1 1 1 1 1 1]\n",
            "[1 3 4 5 0 1]\n",
            "[1 0 0 0 0 1]\n",
            "[1 5 4 4 0 1]\n",
            "[1 4 5 2 0 1]\n",
            "[1 1 1 1 1 1]\n",
            "Task 2\n",
            "['r', 'u', 'u', 'l', 'l', 'l', 'u']\n"
          ]
        }
      ]
    },
    {
      "cell_type": "code",
      "source": [
        ""
      ],
      "metadata": {
        "id": "CxhlxBdC_XJ5"
      },
      "execution_count": null,
      "outputs": []
    }
  ]
}
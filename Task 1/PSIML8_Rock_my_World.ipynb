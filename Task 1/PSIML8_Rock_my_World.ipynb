{
  "nbformat": 4,
  "nbformat_minor": 0,
  "metadata": {
    "colab": {
      "name": "PSIML8-Rock my World.ipynb",
      "provenance": [],
      "collapsed_sections": [],
      "authorship_tag": "ABX9TyOYAdOejpD52//p6UOt58Aj",
      "include_colab_link": true
    },
    "kernelspec": {
      "name": "python3",
      "display_name": "Python 3"
    },
    "language_info": {
      "name": "python"
    }
  },
  "cells": [
    {
      "cell_type": "markdown",
      "metadata": {
        "id": "view-in-github",
        "colab_type": "text"
      },
      "source": [
        "<a href=\"https://colab.research.google.com/github/djolobolonjez/PSIML8-Qualification-tasks/blob/master/Task%201/PSIML8_Rock_my_World.ipynb\" target=\"_parent\"><img src=\"https://colab.research.google.com/assets/colab-badge.svg\" alt=\"Open In Colab\"/></a>"
      ]
    },
    {
      "cell_type": "code",
      "source": [
        "\"\"\"from zipfile import ZipFile\n",
        "file_name = \"/rockmyworld-public.zip\"\n",
        "\n",
        "with ZipFile(file_name, 'r') as zip:\n",
        "  zip.extractall()\n",
        "  print('Done')\"\"\""
      ],
      "metadata": {
        "id": "1JFTGHc0T5d6"
      },
      "execution_count": null,
      "outputs": []
    },
    {
      "cell_type": "markdown",
      "source": [
        "Importing libraries"
      ],
      "metadata": {
        "id": "AKD9OdpNk7Rl"
      }
    },
    {
      "cell_type": "code",
      "execution_count": null,
      "metadata": {
        "id": "HU5UvPYX79ys"
      },
      "outputs": [],
      "source": [
        "import os\n",
        "import json\n",
        "import numpy as np\n",
        "import pandas as pd\n",
        "import math\n",
        "from pathlib import Path"
      ]
    },
    {
      "cell_type": "markdown",
      "source": [
        "Input and global variables"
      ],
      "metadata": {
        "id": "wBwENpQ0k33Q"
      }
    },
    {
      "cell_type": "code",
      "source": [
        "path = input()\n",
        "filenum = 0\n",
        "citymap = {}\n",
        "countrymap = {}\n",
        "visitors = {}\n",
        "venues = {}\n",
        "indie = {}\n",
        "bands = {}\n",
        "tours = {}\n",
        "count = 0\n",
        "concerts = 0\n",
        "df_list = []"
      ],
      "metadata": {
        "id": "2Q_0ONPqk0Oz"
      },
      "execution_count": null,
      "outputs": []
    },
    {
      "cell_type": "markdown",
      "source": [
        "Extracting data"
      ],
      "metadata": {
        "id": "bcv3U2ohPu4b"
      }
    },
    {
      "cell_type": "code",
      "source": [
        "def info_extract(dir, path, file):\n",
        "    d = Path(dir)\n",
        "    p = Path(path)\n",
        "    d_list = list(d.parts)\n",
        "    p_list = list(p.parts)\n",
        "\n",
        "    global count, concerts\n",
        "\n",
        "    venue = os.path.splitext(file)[0]\n",
        "    year = month = day = city = country = \"\"\n",
        "    for i in d_list:\n",
        "        p_list.remove(i)\n",
        "    if p_list[0].isnumeric():\n",
        "        year = p_list[0]\n",
        "        month = p_list[1]\n",
        "        day = p_list[2]\n",
        "        city = p_list[-1]\n",
        "        country = p_list[-2]\n",
        "    elif p_list[0].find(\"_\") != -1 and p_list[0][0].isnumeric():\n",
        "        splitted = p_list[0].split(\"_\")\n",
        "        year = splitted[0]\n",
        "        month = splitted[1]\n",
        "        day = splitted[2]\n",
        "        city = p_list[-1]\n",
        "        country = p_list[-2]\n",
        "    else:\n",
        "        splitted = p_list[-1].split(\"_\")\n",
        "        year = splitted[0]\n",
        "        month = splitted[1]\n",
        "        day = splitted[2]\n",
        "        city = p_list[1]\n",
        "        country = p_list[0]\n",
        "\n",
        "    month = month.strip(\"0\")\n",
        "    day = day.strip(\"0\")\n",
        "\n",
        "    date = str(day) + \"_\" + str(month) + \"_\" + str(year)\n",
        "    country = country.replace(\"-\", \"_\")\n",
        "    city = city.replace(\"-\", \"_\")\n",
        "    if country[:4].lower() == 'the_' or country[:4].lower() == 'the-':\n",
        "        country = country[4:]\n",
        "\n",
        "    os.chdir(path)\n",
        "    with open(file, 'r') as f:\n",
        "        x = f.readlines()\n",
        "\n",
        "        if not len(x):\n",
        "            return\n",
        "        elif x[-1] == ']':\n",
        "            data = json.load(open(file, \"r\"))\n",
        "            df = pd.DataFrame(data)\n",
        "        else:\n",
        "            data = [json.loads(line) for line in open(file, 'r')]\n",
        "            df = pd.DataFrame(data)\n",
        "    if not df.empty:\n",
        "        if 'band_name' in df.columns:\n",
        "            #df.dropna(subset=['band_name'], inplace=True)\n",
        "            valid = df['band_name'].count()\n",
        "            #concerts += valid\n",
        "        else:\n",
        "            return\n",
        "\n",
        "        if 'is_indie' not in df.columns:\n",
        "            df['is_indie'] = False\n",
        "        else:\n",
        "            df['is_indie'].fillna(False, inplace=True)\n",
        "\n",
        "        if any(df['is_indie']):\n",
        "          for band in df['band_name']:\n",
        "            if not pd.isna(band):\n",
        "              if venue not in venues:\n",
        "                venues[venue] = [[band], date]\n",
        "              else:\n",
        "                venues[venue][0].append(band)\n",
        "        else:\n",
        "          if venue in venues:\n",
        "            if date == venues[venue][-1]:\n",
        "              for band in df['band_name']:\n",
        "                if not pd.isna(band):\n",
        "                  venues[venue][0].append(band)\n",
        "          \n",
        "\n",
        "        if 'attendance' in df.columns:\n",
        "            count += df['attendance'].mean()\n",
        "\n",
        "        if country not in countrymap:\n",
        "            countrymap[country] = valid\n",
        "        else:\n",
        "            countrymap[country] += valid\n",
        "        if city not in citymap:\n",
        "            citymap[city] = valid\n",
        "        else:\n",
        "            citymap[city] += valid\n",
        "\n",
        "        df_list.append([df, city])"
      ],
      "metadata": {
        "id": "tdo12jqjpKqV"
      },
      "execution_count": null,
      "outputs": []
    },
    {
      "cell_type": "markdown",
      "source": [
        "Counting number of JSON files"
      ],
      "metadata": {
        "id": "q8gvcjLlk9aV"
      }
    },
    {
      "cell_type": "code",
      "source": [
        "def file_count(dir):\n",
        "  global filenum\n",
        "  for roots, dirs, files in os.walk(dir):\n",
        "    for file in files:\n",
        "      filenum += 1\n",
        "      info_extract(dir, roots, file)"
      ],
      "metadata": {
        "id": "ndecc5s1RQAP"
      },
      "execution_count": null,
      "outputs": []
    },
    {
      "cell_type": "markdown",
      "source": [
        "Filling some missing values"
      ],
      "metadata": {
        "id": "sFBwKLbVPxX2"
      }
    },
    {
      "cell_type": "code",
      "source": [
        "def fill_attendance():\n",
        "  average = count/filenum\n",
        "  for elem in df_list:\n",
        "    df = elem[0]\n",
        "    if 'attendance' not in df.columns:\n",
        "      df['attendance'] = average\n",
        "    else:\n",
        "      mean_value = df[\"attendance\"].mean(skipna = True)\n",
        "      if not math.isnan(mean_value):\n",
        "        df['attendance'].fillna(value = mean_value, inplace = True)\n",
        "      else:\n",
        "        df['attendance'].fillna(value = average, inplace = True)"
      ],
      "metadata": {
        "id": "2xFjWhilaSFe"
      },
      "execution_count": null,
      "outputs": []
    },
    {
      "cell_type": "markdown",
      "source": [
        "Part 4 of the task"
      ],
      "metadata": {
        "id": "dBpkDlDAPz1N"
      }
    },
    {
      "cell_type": "code",
      "source": [
        "def most_indie():\n",
        "  average = count/filenum\n",
        "  for elem in df_list:\n",
        "    df = elem[0]\n",
        "    city = elem[-1]\n",
        "    sum = df.loc[df['is_indie'] == True, 'attendance'].sum()\n",
        "    if city not in indie:\n",
        "      indie[city] = sum\n",
        "    else:\n",
        "      indie[city] += sum\n",
        "    "
      ],
      "metadata": {
        "id": "waNT_c1iZTRI"
      },
      "execution_count": null,
      "outputs": []
    },
    {
      "cell_type": "markdown",
      "source": [
        "Part 5 of the task, needs some complexity improving"
      ],
      "metadata": {
        "id": "gavMt-JfP5-l"
      }
    },
    {
      "cell_type": "code",
      "source": [
        "def top_bands():\n",
        "  for elem in df_list:\n",
        "    df = elem[0]\n",
        "    for band in df['band_name']:\n",
        "      if band in bandset:\n",
        "        num = df.loc[df['band_name'] == band, 'attendance'].iloc[0]\n",
        "        if band not in bands and band not in tours:\n",
        "          bands[band] = num\n",
        "          tours[band] = 1\n",
        "        else:\n",
        "          bands[band] += num\n",
        "          tours[band] += 1\n",
        "\n",
        "  for band in bands:\n",
        "    bands[band] /= tours[band]\n",
        "  \n",
        "  return dict(sorted(bands.items(), key = lambda item: item[1], reverse = True))\n",
        "          "
      ],
      "metadata": {
        "id": "kUzEWWmz2BSt"
      },
      "execution_count": null,
      "outputs": []
    },
    {
      "cell_type": "markdown",
      "source": [
        "Main function"
      ],
      "metadata": {
        "id": "68dizCddlDm5"
      }
    },
    {
      "cell_type": "code",
      "source": [
        "file_count(path)\n",
        "print(filenum)\n",
        "print(len(countrymap))\n",
        "max = 0\n",
        "city = \"\"\n",
        "for key in citymap:\n",
        "  if citymap[key] > max:\n",
        "    max = citymap[key]\n",
        "    city = key\n",
        "  elif citymap[key] == max:\n",
        "    if key < city:\n",
        "      max = citymap[key]\n",
        "      city = key\n",
        "\n",
        "print(city)\n",
        "fill_attendance()\n",
        "most_indie()\n",
        "indie = dict(sorted(indie.items(), key=lambda item: item[1], reverse = True))\n",
        "most = list(indie.keys())[:3]\n",
        "print(*most, sep = \",\")\n",
        "\n",
        "bnds = []\n",
        "for key in venues:\n",
        "  bnds += [elem for elem in venues[key][0]]\n",
        "\n",
        "bandset = set(bnds)\n",
        "best_bands = list(top_bands())[:3]\n",
        "print(*best_bands, sep = \",\")"
      ],
      "metadata": {
        "id": "bGUY5qe3SHtK"
      },
      "execution_count": null,
      "outputs": []
    },
    {
      "cell_type": "code",
      "source": [
        ""
      ],
      "metadata": {
        "id": "TAVpOjJsYwGP"
      },
      "execution_count": null,
      "outputs": []
    }
  ]
}